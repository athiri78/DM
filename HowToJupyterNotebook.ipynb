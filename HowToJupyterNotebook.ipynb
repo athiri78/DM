{
 "cells": [
  {
   "cell_type": "markdown",
   "metadata": {},
   "source": [
    "# How do I use these LAMMPS tutorials in Jupyter Notebook?\n",
    "\n",
    "### Author: Mark Tschopp, mark.a.tschopp.civ at mail.mil\n",
    "\n",
    "Please contact me if you have a problem, so I can modify in Github. The latest version of this [Jupyter Notebook](http://ipython.org/notebook.html) tutorial is available at https://github.com/mrkllntschpp/lammps-tutorials."
   ]
  },
  {
   "cell_type": "markdown",
   "metadata": {},
   "source": [
    "***\n",
    "<img src=\"https://upload.wikimedia.org/wikipedia/en/c/cd/Anaconda_Logo.png\" width=\"200\" title=\"Anaconda Logo\" />\n",
    "\n",
    "### Step One: Download Anaconda\n",
    "\n",
    "OK, if you are a newby to Python, the easiest way to get everything installed on yoru computer is through a softare package called Anaconda at https://www.anaconda.com.  Go ahead, go there and download the most current version of Python (and Anaconda) for your operating system.\n",
    "\n",
    "Click, download, save as, run, voila!  Congratulations, you now have Anaconda and Python installed on your machine!\n",
    "\n",
    "If you area having problems, there are a whole bunch of links and videos to help, [click here](https://www.google.com/search?sxsrf=ALeKk01t4vqA2pmuRVOUlODH1C9xHn5U0A%3A1586178572086&source=hp&ei=DCqLXruiAq-wytMPgZ-24AY&q=how+to+install+anaconda&oq=how+to+install+anaconda&gs_lcp=CgZwc3ktYWIQAzICCAAyAggAMgIIADICCAAyAggAMgIIADICCAAyAggAMgIIADICCAA6BQgAEIMBOgQIIxAnOggIABAWEAoQHjoGCAAQFhAeOgcIIxCxAhAnOgQIABAKSjEIFxItMi0yNTlnMjMzZzIzMWcyNThnMTQ5ZzE5OGcyMDhnMTcwZzE3M2cyMTNnMjIyShsIGBIXMi0xZzFnMWcxZzFnMWcxZzJnOGc1ZzRQ5gpYxl9ggHFoCHAAeAGAAeYCiAG7IpIBCDAuMjQuMi4xmAEAoAEBqgEHZ3dzLXdpeg&sclient=psy-ab&ved=0ahUKEwi72NjS79PoAhUvmHIEHYGPDWwQ4dUDCAw&uact=5#spf=1586178588337)"
   ]
  },
  {
   "cell_type": "markdown",
   "metadata": {},
   "source": [
    "***\n",
    "<img src=\"https://upload.wikimedia.org/wikipedia/commons/9/91/Octicons-mark-github.svg\" width=\"15%\" title=\"Github Logo\" />\n",
    "\n",
    "\n",
    "### Step Two: Get tutorials (or Git Tutorials?)\n",
    "\n",
    "OK, I made it easy for you.  I uploaded all these onto [Github](https://github.com) under my user account [mrkllntschpp](https://github.com/mrkllntschpp) (my full name without vowels) in the [LAMMPS-tutorials repository](https://github.com/mrkllntschpp/lammps-tutorials).\n",
    "\n",
    "Surely others have pulled files from Github.  Yes!  So, just try this to clone the files on your desktop (or wherever you want to store them).\n",
    "https://help.github.com/en/github/creating-cloning-and-archiving-repositories/cloning-a-repository\n",
    "\n",
    "I actually have to use the command line on my computer, so I navigate to the folder that I want it in.  Then, \n",
    "Type `git clone`, and then paste the `https://github.com/mrkllntschpp/lammps-tutorials` URL.\n",
    "\n",
    "i.e., `git clone https://github.com/mrkllntschpp/lammps-tutorials`\n",
    "\n",
    "It should copy everything in my [LAMMPS-tutorials repository](https://github.com/mrkllntschpp/lammps-tutorials) to your computer.  Awesome-sauce!"
   ]
  },
  {
   "cell_type": "markdown",
   "metadata": {},
   "source": [
    "***\n",
    "<img src=\"https://upload.wikimedia.org/wikipedia/commons/thumb/3/38/Jupyter_logo.svg/1200px-Jupyter_logo.svg.png\" width=\"150\" title=\"Github Logo\" />\n",
    "\n",
    "\n",
    "### Step Three: Run it in Jupyter Notebook\n",
    "\n",
    "OK, now go to the Windows start menu and run Anaconda Navigator.  This will bring up a console with a whole bunch of different programs that can be launched.  Launch the Jupyter Notebook application and it will bring up a directory within your computer in Internet Explorer or your default web browser.  Change directories to whereever the tutorials are and select one.  This should open the `*.ipynb` (Iron Python Notebook) in Jupyter Notebook and open up a Python Kernel to run it on.\n",
    "\n",
    "If you are new to Jupyter Notebook, you can find a number of tutorials online to teach some of the basics, like [this one](https://www.google.com/url?sa=t&rct=j&q=&esrc=s&source=video&cd=1&cad=rja&uact=8&ved=0ahUKEwj3tsuJg9ToAhUHj3IEHYw0A3YQtwIIKDAA&url=https%3A%2F%2Fwww.youtube.com%2Fwatch%3Fv%3DHW29067qVWk&usg=AOvVaw21ZJjIdwH3IMVAp19RGLmx) or [this one](https://www.google.com/url?sa=t&rct=j&q=&esrc=s&source=video&cd=2&cad=rja&uact=8&ved=0ahUKEwj3tsuJg9ToAhUHj3IEHYw0A3YQtwIIMDAB&url=https%3A%2F%2Fwww.youtube.com%2Fwatch%3Fv%3D3C9E2yPBw7s&usg=AOvVaw1P-HedhUVdEgsS3kPk6acr)\n"
   ]
  },
  {
   "cell_type": "markdown",
   "metadata": {},
   "source": [
    "***\n",
    "<div class=\"alert alert-success\">\n",
    "    <center>Congratulations!</center>\n",
    "</div>\n",
    "\n",
    "***"
   ]
  }
 ],
 "metadata": {
  "kernelspec": {
   "display_name": "Python 3",
   "language": "python",
   "name": "python3"
  },
  "language_info": {
   "codemirror_mode": {
    "name": "ipython",
    "version": 3
   },
   "file_extension": ".py",
   "mimetype": "text/x-python",
   "name": "python",
   "nbconvert_exporter": "python",
   "pygments_lexer": "ipython3",
   "version": "3.7.1"
  }
 },
 "nbformat": 4,
 "nbformat_minor": 2
}
